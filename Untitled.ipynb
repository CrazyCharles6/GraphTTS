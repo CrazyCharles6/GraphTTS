{
 "cells": [
  {
   "cell_type": "code",
   "execution_count": null,
   "metadata": {
    "code_folding": [
     17
    ]
   },
   "outputs": [],
   "source": [
    "import os, argparse\n",
    "import torch\n",
    "import torch.nn as nn\n",
    "import torch.nn.functional as F\n",
    "from modules.model import GraphTTS\n",
    "from modules.loss import TransformerLoss\n",
    "import hparams\n",
    "from text import *\n",
    "from utils.utils import *\n",
    "from utils.writer import get_writer\n",
    "\n",
    "\n",
    "os.environ[\"CUDA_VISIBLE_DEVICES\"]='0, 1'\n",
    "torch.manual_seed(hparams.seed)\n",
    "torch.cuda.manual_seed(hparams.seed)\n",
    "    \n",
    "    \n",
    "def validate(model, criterion, val_loader, iteration, writer):\n",
    "    model.eval()\n",
    "    with torch.no_grad():\n",
    "        n_data, val_loss = 0, 0\n",
    "        for i, batch in enumerate(val_loader):\n",
    "            n_data += len(batch[0])\n",
    "            text_padded, text_lengths, mel_padded, mel_lengths, gate_padded = [\n",
    "                x.cuda() for x in batch\n",
    "            ]\n",
    "            \n",
    "            mel_out, mel_out_post,\\\n",
    "            enc_alignments, dec_alignments, enc_dec_alignments, gate_out = model.module.outputs(text_padded,\n",
    "                                                                                                mel_padded,\n",
    "                                                                                                text_lengths,\n",
    "                                                                                                mel_lengths)\n",
    "        \n",
    "            mel_loss, bce_loss, guide_loss = criterion((mel_out, mel_out_post, gate_out),\n",
    "                                                       (mel_padded, gate_padded),\n",
    "                                                       (enc_dec_alignments, text_lengths, mel_lengths))\n",
    "            \n",
    "            loss = torch.mean(mel_loss+bce_loss+guide_loss)\n",
    "            val_loss += loss.item() * len(batch[0])\n",
    "\n",
    "        val_loss /= n_data\n",
    "\n",
    "    writer.add_losses(mel_loss.item(),\n",
    "                      bce_loss.item(),\n",
    "                      guide_loss.item(),\n",
    "                      iteration//hparams.accumulation, 'Validation')\n",
    "    \n",
    "    writer.add_specs(mel_padded.detach().cpu(),\n",
    "                     mel_out.detach().cpu(),\n",
    "                     mel_out_post.detach().cpu(),\n",
    "                     mel_lengths.detach().cpu(),\n",
    "                     iteration//hparams.accumulation, 'Validation')\n",
    "    \n",
    "    writer.add_alignments(enc_alignments.detach().cpu(),\n",
    "                          dec_alignments.detach().cpu(),\n",
    "                          enc_dec_alignments.detach().cpu(),\n",
    "                          text_padded.detach().cpu(),\n",
    "                          mel_lengths.detach().cpu(),\n",
    "                          text_lengths.detach().cpu(),\n",
    "                          iteration//hparams.accumulation, 'Validation')\n",
    "    \n",
    "    writer.add_gates(gate_out.detach().cpu(),\n",
    "                    iteration//hparams.accumulation, 'Validation')\n",
    "    model.train()\n",
    "    \n",
    "train_loader, val_loader, collate_fn = prepare_dataloaders(hparams)\n"
   ]
  },
  {
   "cell_type": "code",
   "execution_count": null,
   "metadata": {},
   "outputs": [],
   "source": [
    "batch = iter(train_loader).next()"
   ]
  },
  {
   "cell_type": "code",
   "execution_count": null,
   "metadata": {},
   "outputs": [],
   "source": [
    "text_padded, adj_padded, text_lengths, mel_padded, mel_lengths, gate_padded = [\n",
    "            reorder_batch(x, hparams.n_gpus).cuda() for x in batch\n",
    "        ]"
   ]
  },
  {
   "cell_type": "code",
   "execution_count": null,
   "metadata": {},
   "outputs": [],
   "source": [
    "adj_padded.size()"
   ]
  },
  {
   "cell_type": "code",
   "execution_count": null,
   "metadata": {},
   "outputs": [],
   "source": [
    "model = nn.DataParallel(GraphTTS(hparams)).cuda()\n",
    "optimizer = torch.optim.Adam(model.parameters(),\n",
    "                             lr=hparams.lr,\n",
    "                             betas=(0.9, 0.98),\n",
    "                             eps=1e-09)\n",
    "criterion = TransformerLoss()\n",
    "writer = get_writer(hparams.output_directory, hparams.log_directory)\n",
    "\n",
    "iteration, loss = 0, 0\n",
    "model.train()\n",
    "print(\"Training Start!!!\")\n",
    "while iteration < (hparams.train_steps*hparams.accumulation):\n",
    "    for i, batch in enumerate(train_loader):\n",
    "        text_padded, adj_padded, text_lengths, mel_padded, mel_lengths, gate_padded = [\n",
    "            reorder_batch(x, hparams.n_gpus).cuda() for x in batch\n",
    "        ]\n",
    "\n",
    "        mel_loss, bce_loss, guide_loss = model(text_padded,\n",
    "                                               adj_padded,\n",
    "                                               mel_padded,\n",
    "                                               gate_padded,\n",
    "                                               text_lengths,\n",
    "                                               mel_lengths,\n",
    "                                               criterion)\n",
    "\n",
    "        mel_loss, bce_loss, guide_loss=[\n",
    "            torch.mean(x) for x in [mel_loss, bce_loss, guide_loss]\n",
    "        ]\n",
    "        sub_loss = (mel_loss+bce_loss+guide_loss)/hparams.accumulation\n",
    "        sub_loss.backward()\n",
    "        loss = loss+sub_loss.item()\n",
    "\n",
    "        iteration += 1\n",
    "        if iteration%hparams.accumulation == 0:\n",
    "            lr_scheduling(optimizer, iteration//hparams.accumulation)\n",
    "            nn.utils.clip_grad_norm_(model.parameters(), hparams.grad_clip_thresh)\n",
    "            optimizer.step()\n",
    "            model.zero_grad()\n",
    "            writer.add_losses(mel_loss.item(),\n",
    "                              bce_loss.item(),\n",
    "                              guide_loss.item(),\n",
    "                              iteration//hparams.accumulation, 'Train')\n",
    "            loss=0\n",
    "\n",
    "\n",
    "        if iteration%(hparams.iters_per_validation*hparams.accumulation)==0:\n",
    "            validate(model, criterion, val_loader, iteration, writer)\n",
    "\n",
    "        if iteration%(hparams.iters_per_checkpoint*hparams.accumulation)==0:\n",
    "            save_checkpoint(model,\n",
    "                            optimizer,\n",
    "                            hparams.lr,\n",
    "                            iteration//hparams.accumulation,\n",
    "                            filepath=f'{hparams.output_directory}/{hparams.log_directory}')\n",
    "\n",
    "        if iteration==(hparams.train_steps*hparams.accumulation):\n",
    "            break\n"
   ]
  }
 ],
 "metadata": {
  "kernelspec": {
   "display_name": "Python [conda env:LYH] *",
   "language": "python",
   "name": "conda-env-LYH-py"
  },
  "language_info": {
   "codemirror_mode": {
    "name": "ipython",
    "version": 3
   },
   "file_extension": ".py",
   "mimetype": "text/x-python",
   "name": "python",
   "nbconvert_exporter": "python",
   "pygments_lexer": "ipython3",
   "version": "3.7.5"
  },
  "varInspector": {
   "cols": {
    "lenName": 16,
    "lenType": 16,
    "lenVar": 40
   },
   "kernels_config": {
    "python": {
     "delete_cmd_postfix": "",
     "delete_cmd_prefix": "del ",
     "library": "var_list.py",
     "varRefreshCmd": "print(var_dic_list())"
    },
    "r": {
     "delete_cmd_postfix": ") ",
     "delete_cmd_prefix": "rm(",
     "library": "var_list.r",
     "varRefreshCmd": "cat(var_dic_list()) "
    }
   },
   "types_to_exclude": [
    "module",
    "function",
    "builtin_function_or_method",
    "instance",
    "_Feature"
   ],
   "window_display": false
  }
 },
 "nbformat": 4,
 "nbformat_minor": 4
}
